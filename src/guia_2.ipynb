{
 "cells": [
  {
   "cell_type": "code",
   "execution_count": 1,
   "metadata": {},
   "outputs": [],
   "source": [
    "import random\n",
    "import datetime\n",
    "from dateutil.relativedelta import relativedelta\n",
    "from faker import Faker\n",
    "random.seed(49)\n",
    "fake = Faker(seed=49,locale=\"es\")"
   ]
  },
  {
   "cell_type": "code",
   "execution_count": 113,
   "metadata": {},
   "outputs": [],
   "source": [
    "formato_fecha = \"%d-%m-%Y\"\n",
    "\n",
    "def str_a_date(fecha_str):\n",
    "    d,m,y = fecha_str.split(\"-\")\n",
    "    return datetime.date(int(y), int(m), int(d))\n",
    "\n",
    "def es_fecha_ultimos_anios(fecha, anios=2):\n",
    "    hoy = datetime.datetime.today()\n",
    "    fecha = str_a_date(fecha)\n",
    "    anios_desde_fecha = relativedelta(hoy,fecha).years\n",
    "    return anios_desde_fecha < anios\n",
    "\n",
    "def get_fecha_ultimos_anios(anios=3, formato=formato_fecha): \n",
    "    return fake.date_between(\"-{}y\".format(anios)).strftime(formato)\n",
    "\n",
    "def get_precio(fecha, producto):\n",
    "    \"\"\"\n",
    "        En base a una fecha y un codigo de producto, devuelve un precio simulando una inflacion random.\n",
    "    \"\"\"\n",
    "    fecha_int = int((str_a_date(fecha)-datetime.date(2000,1,1)).total_seconds() / 1000000)\n",
    "    return fecha_int * int(producto)\n",
    "\n",
    "year = lambda x: x.split(\"-\")[-1]"
   ]
  },
  {
   "cell_type": "markdown",
   "metadata": {},
   "source": [
    "1- Se tiene un RDD con el registro de notas de los alumnos de la forma (padrón, materia, nota,fecha). Se pide resolver utilizando PySpark:\n",
    "\n",
    "A. Cuántos alumnos aprobaron al menos 1 materia en los últimos 2 años.\n",
    "\n",
    "B. Un RDD conteniendo el promedio de notas de cada alumno de la forma (padrón,promedio).\n",
    "\n",
    "C. El nombre y apellido del alumno con mejor promedio. Para esto puede utilizarse un segundo RDD alumnos con registros (padron, nombre y apellido)."
   ]
  },
  {
   "cell_type": "code",
   "execution_count": 3,
   "metadata": {},
   "outputs": [
    {
     "name": "stdout",
     "output_type": "stream",
     "text": [
      "15 alumnos de 20 aprobaron al menos 1 materia en los últimos 2 años\n",
      "PythonRDD[10] at RDD at PythonRDD.scala:53\n",
      "'Martin, Nuria' (padron 19) es el alumno con mejor promedio\n"
     ]
    }
   ],
   "source": [
    "cantidad_alumnos = 20\n",
    "padrones = [ x for x in range(1, cantidad_alumnos+1) ]\n",
    "materias = (\"ALGEBRA I\", \"ANALISIS I\", \"ALGEBRA II\", \"ANALISIS II\", \"PROBABILIDAD\", \"ALGORITMOS I\", \"ALGORITMOS II\")\n",
    "notas = list(range(1,11))\n",
    "fechas = (\"01-02-2019\", \"01-07-2019\", \"01-02-2018\", \"01-07-2018\", \"01-12-2018\", \"01-02-2017\", \"01-07-2017\", \"01-12-2017\")\n",
    "def alumno_random(): return tuple([random.choice(x) for x in (padrones, materias, notas, fechas)])\n",
    "\n",
    "cantidad_registros = 50\n",
    "notas = { alumno_random() for a in range(cantidad_registros) }\n",
    "\n",
    "rdd_notas = sc.parallelize(notas)\n",
    "\n",
    "es_aprobado = lambda x: x > 3\n",
    "\n",
    "ejercicio_a = rdd_notas\\\n",
    "    .filter(lambda x: es_aprobado(x[2]))\\\n",
    "    .filter(lambda x: es_fecha_ultimos_anios(x[3]))\\\n",
    "    .map(lambda x: (x[0], 0))\\\n",
    "    .groupByKey()\\\n",
    "    .count()\n",
    "\n",
    "print(\"{} alumnos de {} aprobaron al menos 1 materia en los últimos 2 años\".format(ejercicio_a, cantidad_alumnos))\n",
    "\n",
    "ejercicio_b = rdd_notas\\\n",
    "    .map(lambda x: (x[0], (x[2], 1)))\\\n",
    "    .reduceByKey(lambda x,y: (x[0]+y[0],x[1]+1))\\\n",
    "    .map(lambda x: (x[0], x[1][0]/x[1][1]))\n",
    "# pide el RDD, no ejecuto ninguna acción\n",
    "print(ejercicio_b)\n",
    "\n",
    "nombres = [(x, fake.first_name(),fake.last_name()) for x in padrones]\n",
    "rdd_nombres = sc.parallelize(nombres)\n",
    "\n",
    "padron_mejor_promedio = ejercicio_b.max(lambda x: x[1])[0]\n",
    "ejercicio_c = rdd_nombres.filter(lambda x: x[0]==padron_mejor_promedio).collect()[0]\n",
    "print(\"'{}, {}' (padron {}) es el alumno con mejor promedio\".format(ejercicio_c[2], ejercicio_c[1], ejercicio_c[0]))"
   ]
  },
  {
   "cell_type": "markdown",
   "metadata": {},
   "source": [
    "---\n",
    "\n",
    "2- Se tiene un RDD registros de ventas de producto con la forma (fecha de venta, código de  producto, precio de venta) y en otro RDD detalle de los productos con (código de producto, descripción del producto, categoría). Se pide resolver utilizando PySpark:\n",
    "\n",
    "A. Cuál es el producto más vendido.\n",
    "\n",
    "B. Cuál es la categoría de productos más vendida.\n",
    "\n",
    "C. Cuál es el top5 de productos más vendidos generando un RDD con (código de producto, descripción, cantidad de ventas)\n",
    "\n",
    "D. Cuál es el producto que registró mayor aumento de precio en el último año, tomando para este análisis solo los productos que cuenten con al menos 50 ventas en el último año.\n",
    "\n",
    "E. Idem anterior, pero calculando la categoría de productos que registró mayor variación de precios en el último año."
   ]
  },
  {
   "cell_type": "code",
   "execution_count": 114,
   "metadata": {},
   "outputs": [],
   "source": [
    "cantidad_ventas = 20000\n",
    "ids_productos = list(range(1, 11))\n",
    "categorias = [\"Autos\", \"Motos\", \"Lanchas\", \"Aviones\"]\n",
    "productos = [ (a,fake.street_name(),random.choice(categorias)) for a in ids_productos ]\n",
    "\n",
    "def crear_venta():\n",
    "    fecha, producto = get_fecha_ultimos_anios(), random.choice(ids_productos)\n",
    "    return (fecha, producto, get_precio(fecha, producto))\n",
    "\n",
    "ventas = [crear_venta() for x in range(cantidad_ventas)]\n",
    "rdd_ventas = sc.parallelize(ventas)\n",
    "rdd_productos = sc.parallelize(productos)"
   ]
  },
  {
   "cell_type": "code",
   "execution_count": 115,
   "metadata": {},
   "outputs": [
    {
     "name": "stdout",
     "output_type": "stream",
     "text": [
      "El producto más vendido es (1, 'Alameda Emilio Noguera', 'Motos')\n"
     ]
    }
   ],
   "source": [
    "# A. Cuál es el producto más vendido.\n",
    "codigo_mas_vendido = rdd_ventas.map(lambda x: (x[1], 0))\\\n",
    "    .reduceByKey(lambda x,y: x+1)\\\n",
    "    .max(lambda x: x[1])[0]\n",
    "producto_mas_vendido = rdd_productos.filter(lambda x: x[0]==codigo_mas_vendido).collect()[0]\n",
    "print(\"El producto más vendido es {}\".format(producto_mas_vendido))"
   ]
  },
  {
   "cell_type": "code",
   "execution_count": 116,
   "metadata": {},
   "outputs": [
    {
     "name": "stdout",
     "output_type": "stream",
     "text": [
      "La categoria mas vendida es Autos, con 2021 ventas\n"
     ]
    }
   ],
   "source": [
    "# B. Cuál es la categoría de productos más vendida.\n",
    "categoria_mas_vendida = rdd_ventas.map(lambda x: (x[1], 0))\\\n",
    "    .join(rdd_productos.map(lambda x: (x[0], x[2])))\\\n",
    "    .map(lambda x: (x[1][1],0))\\\n",
    "    .reduceByKey(lambda x,y: x+1)\\\n",
    "    .max(lambda x: x[1])\n",
    "print(\"La categoria mas vendida es {}, con {} ventas\".format(*categoria_mas_vendida))"
   ]
  },
  {
   "cell_type": "code",
   "execution_count": 117,
   "metadata": {},
   "outputs": [
    {
     "data": {
      "text/plain": [
       "[(1, 229, 'Alameda Emilio Noguera'),\n",
       " (8, 225, 'C. de Juan Francisco Aramburu'),\n",
       " (3, 218, 'Plaza de Sara Barceló'),\n",
       " (9, 212, 'Paseo de Jose Antonio Pareja'),\n",
       " (6, 210, 'Ronda de Josep Español')]"
      ]
     },
     "execution_count": 117,
     "metadata": {},
     "output_type": "execute_result"
    }
   ],
   "source": [
    "# C. Cuál es el top5 de productos más vendidos generando un RDD con (código de producto, descripción, cantidad de ventas)\n",
    "top_5 = rdd_ventas.map(lambda x: (x[1], 0))\\\n",
    "    .reduceByKey(lambda x,y: x+1)\\\n",
    "    .top(5, lambda x: x[1])\n",
    "top_5 = sc.parallelize(top_5).join(rdd_productos.map(lambda x: (x[0],x[1]))).map(lambda x: (x[0], *x[1])).collect()\n",
    "sorted(top_5, key=lambda x: x[1], reverse=True)"
   ]
  },
  {
   "cell_type": "code",
   "execution_count": 118,
   "metadata": {},
   "outputs": [
    {
     "name": "stdout",
     "output_type": "stream",
     "text": [
      "El producto (10, 'Alameda Ivan Velázquez', 'Aviones') registró un aumento de 310 el último año\n"
     ]
    }
   ],
   "source": [
    "# D. Cuál es el producto que registró mayor aumento de precio en el último año, tomando para este análisis solo los productos que cuenten con al menos 50 ventas en el último año.\n",
    "\n",
    "ventas_ultimo_anio = rdd_ventas.filter(lambda x: es_fecha_ultimos_anios(x[0], 1)) #(fecha de venta, código de producto, precio de venta)\n",
    "\n",
    "def min_max_ventas(x, y):\n",
    "    \"\"\" no fue magia \"\"\"\n",
    "    fecha_min_x, venta_min_x, fecha_max_x, venta_max_x, cant_x = x\n",
    "    fecha_min_y, venta_min_y, fecha_max_y, venta_max_y, cant_y = y\n",
    "\n",
    "    min_x = str_a_date(fecha_min_x) < str_a_date(fecha_min_y)\n",
    "    fecha_min = fecha_min_x if min_x else fecha_min_y\n",
    "    venta_min = venta_min_x if min_x else venta_min_y\n",
    "    \n",
    "    max_x = str_a_date(fecha_max_x) > str_a_date(fecha_max_y)\n",
    "    fecha_max = fecha_max_x if max_x else fecha_max_y\n",
    "    venta_max = venta_max_x if max_x else venta_max_y\n",
    "        \n",
    "    return (fecha_min, venta_min, fecha_max, venta_max, cant_x+1)\n",
    "\n",
    "codigo, aumento = ventas_ultimo_anio.map(lambda x: (x[1], (x[0],x[2],x[0],x[2],0)))\\\n",
    "    .reduceByKey(min_max_ventas)\\\n",
    "    .filter(lambda x: int(x[1][-1]) > 50)\\\n",
    "    .map(lambda x: (x[0],int(x[1][3])-int(x[1][1])))\\\n",
    "    .max(lambda x: x[1])\n",
    "producto = rdd_productos.filter(lambda x: x[0]==codigo).collect()[0]\n",
    "print(\"El producto {} registró un aumento de {} el último año\".format(producto, aumento))"
   ]
  },
  {
   "cell_type": "code",
   "execution_count": 125,
   "metadata": {},
   "outputs": [
    {
     "name": "stdout",
     "output_type": "stream",
     "text": [
      "La categoria con más aumento (5.34%) es 'Lanchas'\n"
     ]
    }
   ],
   "source": [
    "# D. Cuál es la categoria que registró mayor aumento de precio en el último año.\n",
    "# Voy a considerar promedio año actual vs promedio año anterior\n",
    "\n",
    "este_anio = datetime.date.today().year\n",
    "anios = { str(este_anio-1), str(este_anio) }\n",
    "\n",
    "actual = lambda x:  x==str(este_anio)\n",
    "\n",
    "def mapper(x):\n",
    "    \"\"\"\n",
    "        (cod, ((anio,precio),categoria)) -> (categoria, (suma_actual, suma_anterior, cant_actual, cant_anterior))\n",
    "    \"\"\"\n",
    "    \n",
    "    cod, ((anio, precio), categoria) = x\n",
    "    es_actual = actual(anio)\n",
    "    return (categoria, (precio if es_actual else 0, precio if not es_actual else 0, int(es_actual), int(not es_actual)))\n",
    "\n",
    "def reducer(x,y):\n",
    "    return tuple([sum(a) for a in zip(x,y)])\n",
    "\n",
    "def map_dif(x):\n",
    "    \"\"\"\n",
    "        (categoria, (suma_actual, suma_anterior, cant_actual, cant_anterior)) -> (categoria, aumento)\n",
    "    \"\"\"\n",
    "    categoria, (suma_actual, suma_anterior, cant_actual, cant_anterior) = x\n",
    "    avg_actual, avg_anterior = suma_actual/cant_actual , suma_anterior/cant_anterior\n",
    "    aumento = (avg_actual/avg_anterior - 1) * 100\n",
    "    return categoria, round(aumento,2)\n",
    "\n",
    "aumentos = rdd_ventas.filter(lambda x: year(x[0]) in anios) \\\n",
    "    .map(lambda x: (x[1], (year(x[0]), x[2])))\\\n",
    "    .join(rdd_productos.map(lambda x: (x[0], x[2])))\\\n",
    "    .map(mapper)\\\n",
    "    .reduceByKey(reducer)\\\n",
    "    .map(map_dif)\n",
    "\n",
    "max_aumento = aumentos.max(lambda x: x[1])\n",
    "\n",
    "print(\"La categoria con más aumento ({}%) es '{}'\".format(max_aumento[1], max_aumento[0]))"
   ]
  }
 ],
 "metadata": {
  "kernelspec": {
   "display_name": "Python 3",
   "language": "python",
   "name": "python3"
  },
  "language_info": {
   "codemirror_mode": {
    "name": "ipython",
    "version": 3
   },
   "file_extension": ".py",
   "mimetype": "text/x-python",
   "name": "python",
   "nbconvert_exporter": "python",
   "pygments_lexer": "ipython3",
   "version": "3.6.8"
  }
 },
 "nbformat": 4,
 "nbformat_minor": 4
}
