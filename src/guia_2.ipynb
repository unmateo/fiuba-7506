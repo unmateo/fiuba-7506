{
 "cells": [
  {
   "cell_type": "code",
   "execution_count": 11,
   "metadata": {},
   "outputs": [],
   "source": [
    "import random\n",
    "import datetime\n",
    "from dateutil.relativedelta import relativedelta\n",
    "from faker import Faker\n",
    "random.seed(49)\n",
    "fake = faker.Faker(seed=49,locale=\"es\")"
   ]
  },
  {
   "cell_type": "markdown",
   "metadata": {},
   "source": [
    "1- Se tiene un RDD con el registro de notas de los alumnos de la forma (padrón, materia, nota,fecha). Se pide resolver utilizando PySpark:\n",
    "\n",
    "A. Cuántos alumnos aprobaron al menos 1 materia en los últimos 2 años.\n",
    "\n",
    "B. Un RDD conteniendo el promedio de notas de cada alumno de la forma (padrón,promedio).\n",
    "\n",
    "C. El nombre y apellido del alumno con mejor promedio. Para esto puede utilizarse un segundo RDD alumnos con registros (padron, nombre y apellido)."
   ]
  },
  {
   "cell_type": "code",
   "execution_count": 35,
   "metadata": {},
   "outputs": [
    {
     "name": "stdout",
     "output_type": "stream",
     "text": [
      "15 alumnos de 20 aprobaron al menos 1 materia en los últimos 2 años\n",
      "PythonRDD[76] at RDD at PythonRDD.scala:53\n",
      "Marquez, Carolina (padron 17) es el alumno con mejor promedio\n"
     ]
    }
   ],
   "source": [
    "cantidad_alumnos = 20\n",
    "padrones = [ x for x in range(1, cantidad_alumnos+1) ]\n",
    "materias = (\"ALGEBRA I\", \"ANALISIS I\", \"ALGEBRA II\", \"ANALISIS II\", \"PROBABILIDAD\", \"ALGORITMOS I\", \"ALGORITMOS II\")\n",
    "notas = list(range(1,11))\n",
    "fechas = (\"01-02-2019\", \"01-07-2019\", \"01-02-2018\", \"01-07-2018\", \"01-12-2018\", \"01-02-2017\", \"01-07-2017\", \"01-12-2017\")\n",
    "def alumno_random(): return tuple([random.choice(x) for x in (padrones, materias, notas, fechas)])\n",
    "\n",
    "cantidad_registros = 50\n",
    "notas = { alumno_random() for a in range(cantidad_registros) }\n",
    "\n",
    "rdd_notas = sc.parallelize(notas)\n",
    "\n",
    "def es_fecha_ultimos_dos_anios(fecha):\n",
    "    hoy = datetime.datetime.today()\n",
    "    d,m,y = fecha.split(\"-\")\n",
    "    fecha = datetime.date(int(y), int(m), int(d))\n",
    "    anios = relativedelta(hoy,fecha).years\n",
    "    return anios <= 2\n",
    "\n",
    "es_aprobado = lambda x: x > 3\n",
    "\n",
    "ejercicio_a = rdd_notas\\\n",
    "    .filter(lambda x: es_aprobado(x[2]))\\\n",
    "    .filter(lambda x: es_fecha_ultimos_dos_anios(x[3]))\\\n",
    "    .map(lambda x: (x[0], 0))\\\n",
    "    .groupByKey()\\\n",
    "    .count()\n",
    "\n",
    "print(\"{} alumnos de {} aprobaron al menos 1 materia en los últimos 2 años\".format(ejercicio_a, cantidad_alumnos))\n",
    "\n",
    "ejercicio_b = rdd_notas\\\n",
    "    .map(lambda x: (x[0], (x[2], 1)))\\\n",
    "    .reduceByKey(lambda x,y: (x[0]+y[0],x[1]+1))\\\n",
    "    .map(lambda x: (x[0], x[1][0]/x[1][1]))\n",
    "# pide el RDD, no ejecuto ninguna acción\n",
    "print(ejercicio_b)\n",
    "\n",
    "nombres = [(x, fake.first_name(),fake.last_name()) for x in padrones]\n",
    "rdd_nombres = sc.parallelize(nombres)\n",
    "\n",
    "padron_mejor_promedio = ejercicio_b.max(lambda x: x[1])[0]\n",
    "ejercicio_c = rdd_nombres.filter(lambda x: x[0]==padron_mejor_promedio).collect()[0]\n",
    "print(\"{}, {} (padron {}) es el alumno con mejor promedio\".format(ejercicio_c[2], ejercicio_c[1], ejercicio_c[0]))"
   ]
  }
 ],
 "metadata": {
  "kernelspec": {
   "display_name": "Python 3",
   "language": "python",
   "name": "python3"
  },
  "language_info": {
   "codemirror_mode": {
    "name": "ipython",
    "version": 3
   },
   "file_extension": ".py",
   "mimetype": "text/x-python",
   "name": "python",
   "nbconvert_exporter": "python",
   "pygments_lexer": "ipython3",
   "version": "3.6.8"
  }
 },
 "nbformat": 4,
 "nbformat_minor": 4
}
