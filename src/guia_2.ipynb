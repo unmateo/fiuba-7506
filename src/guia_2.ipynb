{
 "cells": [
  {
   "cell_type": "code",
   "execution_count": 2,
   "metadata": {},
   "outputs": [],
   "source": [
    "import random\n",
    "import datetime\n",
    "from dateutil.relativedelta import relativedelta\n",
    "from faker import Faker\n",
    "random.seed(49)\n",
    "fake = Faker(seed=49,locale=\"es\")"
   ]
  },
  {
   "cell_type": "markdown",
   "metadata": {},
   "source": [
    "1- Se tiene un RDD con el registro de notas de los alumnos de la forma (padrón, materia, nota,fecha). Se pide resolver utilizando PySpark:\n",
    "\n",
    "A. Cuántos alumnos aprobaron al menos 1 materia en los últimos 2 años.\n",
    "\n",
    "B. Un RDD conteniendo el promedio de notas de cada alumno de la forma (padrón,promedio).\n",
    "\n",
    "C. El nombre y apellido del alumno con mejor promedio. Para esto puede utilizarse un segundo RDD alumnos con registros (padron, nombre y apellido)."
   ]
  },
  {
   "cell_type": "code",
   "execution_count": 173,
   "metadata": {},
   "outputs": [
    {
     "name": "stdout",
     "output_type": "stream",
     "text": [
      "17 alumnos de 20 aprobaron al menos 1 materia en los últimos 2 años\n",
      "PythonRDD[261] at RDD at PythonRDD.scala:53\n",
      "Agudo, Nerea (padron 5) es el alumno con mejor promedio\n"
     ]
    }
   ],
   "source": [
    "cantidad_alumnos = 20\n",
    "padrones = [ x for x in range(1, cantidad_alumnos+1) ]\n",
    "materias = (\"ALGEBRA I\", \"ANALISIS I\", \"ALGEBRA II\", \"ANALISIS II\", \"PROBABILIDAD\", \"ALGORITMOS I\", \"ALGORITMOS II\")\n",
    "notas = list(range(1,11))\n",
    "fechas = (\"01-02-2019\", \"01-07-2019\", \"01-02-2018\", \"01-07-2018\", \"01-12-2018\", \"01-02-2017\", \"01-07-2017\", \"01-12-2017\")\n",
    "def alumno_random(): return tuple([random.choice(x) for x in (padrones, materias, notas, fechas)])\n",
    "\n",
    "cantidad_registros = 50\n",
    "notas = { alumno_random() for a in range(cantidad_registros) }\n",
    "\n",
    "rdd_notas = sc.parallelize(notas)\n",
    "\n",
    "def es_fecha_ultimos_anios(fecha, anios=2):\n",
    "    hoy = datetime.datetime.today()\n",
    "    d,m,y = fecha.split(\"-\")\n",
    "    fecha = datetime.date(int(y), int(m), int(d))\n",
    "    anios_desde_fecha = relativedelta(hoy,fecha).years\n",
    "    return anios_desde_fecha <= anios\n",
    "\n",
    "es_aprobado = lambda x: x > 3\n",
    "\n",
    "ejercicio_a = rdd_notas\\\n",
    "    .filter(lambda x: es_aprobado(x[2]))\\\n",
    "    .filter(lambda x: es_fecha_ultimos_anios(x[3]))\\\n",
    "    .map(lambda x: (x[0], 0))\\\n",
    "    .groupByKey()\\\n",
    "    .count()\n",
    "\n",
    "print(\"{} alumnos de {} aprobaron al menos 1 materia en los últimos 2 años\".format(ejercicio_a, cantidad_alumnos))\n",
    "\n",
    "ejercicio_b = rdd_notas\\\n",
    "    .map(lambda x: (x[0], (x[2], 1)))\\\n",
    "    .reduceByKey(lambda x,y: (x[0]+y[0],x[1]+1))\\\n",
    "    .map(lambda x: (x[0], x[1][0]/x[1][1]))\n",
    "# pide el RDD, no ejecuto ninguna acción\n",
    "print(ejercicio_b)\n",
    "\n",
    "nombres = [(x, fake.first_name(),fake.last_name()) for x in padrones]\n",
    "rdd_nombres = sc.parallelize(nombres)\n",
    "\n",
    "padron_mejor_promedio = ejercicio_b.max(lambda x: x[1])[0]\n",
    "ejercicio_c = rdd_nombres.filter(lambda x: x[0]==padron_mejor_promedio).collect()[0]\n",
    "print(\"{}, {} (padron {}) es el alumno con mejor promedio\".format(ejercicio_c[2], ejercicio_c[1], ejercicio_c[0]))"
   ]
  },
  {
   "cell_type": "markdown",
   "metadata": {},
   "source": [
    "---\n",
    "\n",
    "2- Se tiene un RDD registros de ventas de producto con la forma (fecha de venta, código de  producto, precio de venta) y en otro RDD detalle de los productos con (código de producto, descripción del producto, categoría). Se pide resolver utilizando PySpark:\n",
    "\n",
    "A. Cuál es el producto más vendido.\n",
    "\n",
    "B. Cuál es la categoría de productos más vendida.\n",
    "\n",
    "C. Cuál es el top5 de productos más vendidos generando un RDD con (código de producto, descripción, cantidad de ventas)\n",
    "\n",
    "D. Cuál es el producto que registró mayor aumento de precio en el último año, tomando para este análisis solo los productos que cuenten con al menos 50 ventas en el último año.\n",
    "\n",
    "E. Idem anterior, pero calculando la categoría de productos que registró mayor variación de precios en el último año."
   ]
  },
  {
   "cell_type": "code",
   "execution_count": 166,
   "metadata": {},
   "outputs": [],
   "source": [
    "cantidad_ventas = 20000\n",
    "ids_productos = list(range(1, 11))\n",
    "categorias = [\"Autos\", \"Motos\", \"Lanchas\", \"Aviones\"]\n",
    "productos = [ (a,fake.street_name(),random.choice(categorias)) for a in ids_productos ]\n",
    "def fecha_ultimos_anios(anios=3): return fake.date_between(\"-5y\").strftime(\"%d-%m-%Y\")\n",
    "ventas = [(fecha_ultimos_anios(),random.choice(ids_productos), random.randint(1,100)) for x in range(cantidad_ventas)]\n",
    "rdd_ventas = sc.parallelize(ventas)\n",
    "rdd_productos = sc.parallelize(productos)"
   ]
  },
  {
   "cell_type": "code",
   "execution_count": 167,
   "metadata": {},
   "outputs": [
    {
     "name": "stdout",
     "output_type": "stream",
     "text": [
      "El producto más vendido es (5, 'Urbanización Luisa Lillo', 'Lanchas')\n"
     ]
    }
   ],
   "source": [
    "# A\n",
    "codigo_mas_vendido = rdd_ventas.map(lambda x: (x[1], 0))\\\n",
    "    .reduceByKey(lambda x,y: x+1)\\\n",
    "    .max(lambda x: x[1])[0]\n",
    "producto_mas_vendido = rdd_productos.filter(lambda x: x[0]==codigo_mas_vendido).collect()[0]\n",
    "print(\"El producto más vendido es {}\".format(producto_mas_vendido))"
   ]
  },
  {
   "cell_type": "code",
   "execution_count": 168,
   "metadata": {},
   "outputs": [
    {
     "name": "stdout",
     "output_type": "stream",
     "text": [
      "[(9, 'Cuesta Jose Carlos España', 227), (1, 'Glorieta Josep Palacio', 217), (10, 'Rambla Gonzalo Mas', 207), (5, 'Urbanización Luisa Lillo', 233), (6, 'Acceso de Esperanza Arnal', 226)]\n"
     ]
    }
   ],
   "source": [
    "# C\n",
    "top_5 = rdd_ventas.map(lambda x: (x[1], 0))\\\n",
    "    .reduceByKey(lambda x,y: x+1)\\\n",
    "    .top(5, lambda x: x[1])\n",
    "rdd_top_5 = sc.parallelize(top_5, 1)\n",
    "answer = rdd_top_5.join(rdd_productos.map(lambda x: x[:2]))\\\n",
    "    .map(lambda x: (x[0],x[1][1],x[1][0]))\\\n",
    "    .collect()\n",
    "print(answer)"
   ]
  },
  {
   "cell_type": "code",
   "execution_count": 179,
   "metadata": {},
   "outputs": [],
   "source": [
    "# D\n",
    "productos_al_menos_50_ventas_ultimo_anio = rdd_ventas.filter(lambda x: es_fecha_ultimos_anios(x[0], 1))\\\n",
    "    .map(lambda x: (x[1], 0))\\\n",
    "    .reduceByKey(lambda x,y: x+1)\\\n",
    "    .filter(lambda x: x[1] > 50)"
   ]
  },
  {
   "cell_type": "code",
   "execution_count": 188,
   "metadata": {},
   "outputs": [],
   "source": [
    "ventas_productos_al_menos_50_ventas_ultimo_anio = productos_al_menos_50_ventas_ultimo_anio.join(rdd_ventas.map(lambda x: (x[1], (x[0],x[2]))))"
   ]
  },
  {
   "cell_type": "code",
   "execution_count": 189,
   "metadata": {},
   "outputs": [
    {
     "data": {
      "text/plain": [
       "(1, (80, ('20-06-2018', 42)))"
      ]
     },
     "execution_count": 189,
     "metadata": {},
     "output_type": "execute_result"
    }
   ],
   "source": [
    "ventas_productos_al_menos_50_ventas_ultimo_anio.aggregateByKey()"
   ]
  }
 ],
 "metadata": {
  "kernelspec": {
   "display_name": "Python 3",
   "language": "python",
   "name": "python3"
  },
  "language_info": {
   "codemirror_mode": {
    "name": "ipython",
    "version": 3
   },
   "file_extension": ".py",
   "mimetype": "text/x-python",
   "name": "python",
   "nbconvert_exporter": "python",
   "pygments_lexer": "ipython3",
   "version": "3.6.8"
  }
 },
 "nbformat": 4,
 "nbformat_minor": 4
}
