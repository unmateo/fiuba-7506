{
 "cells": [
  {
   "cell_type": "code",
   "execution_count": 1,
   "metadata": {},
   "outputs": [],
   "source": [
    "import pandas as pd\n",
    "import numpy as np\n",
    "import pyspark"
   ]
  },
  {
   "cell_type": "markdown",
   "metadata": {},
   "source": [
    "### Ejercicio 1\n",
    "1) Se cuenta con un RDD con información sobre patentamientos\n",
    "de autos con la siguiente información (patente, marca, modelo,\n",
    "versión, tipo_vehiculo, provincia, fecha), donde tipo_vehiculo\n",
    "indica si la unidad patentada es auto, pickup, camión o moto.\n",
    "\n",
    "Se pide generar un programa en pySpark que indique la marca y\n",
    "modelo del auto más patentado por tipo de vehículo en CABA en el mes de Abril de 2017. (***) (15 pts)"
   ]
  },
  {
   "cell_type": "code",
   "execution_count": 26,
   "metadata": {},
   "outputs": [
    {
     "name": "stdout",
     "output_type": "stream",
     "text": [
      "Cantidad de patentamientos: 39\n",
      "Cantidad de patentamientos durante Abril 2017 en CABA: 10\n",
      "('TIPO-MARCA-MODELO',1):\n",
      "\n",
      "[('AUTO-FORD-FIESTA', 1), ('AUTO-FORD-FOCUS', 1), ('AUTO-FORD-FIESTA', 1), ('MOTO-YAMAHA-XR01', 1), ('MOTO-YAMAHA-XR01', 1), ('MOTO-YAMAHA-XR02', 1), ('MOTO-HONDA-CV01', 1), ('MOTO-HONDA-CV01', 1), ('MOTO-HONDA-CV02', 1), ('AUTO-FIAT-UNO', 1)]\n",
      "('TIPO-MARCA-MODELO',cantidad):\n",
      "\n",
      "[('MOTO-YAMAHA-XR02', 1), ('MOTO-YAMAHA-XR01', 2), ('AUTO-FORD-FIESTA', 2), ('MOTO-HONDA-CV01', 2), ('AUTO-FIAT-UNO', 1), ('AUTO-FORD-FOCUS', 1), ('MOTO-HONDA-CV02', 1)]\n",
      "(tipo,(marca-modelo,cantidad)):\n",
      "\n",
      "[('MOTO', ('YAMAHA-XR02', 1)), ('MOTO', ('YAMAHA-XR01', 2)), ('AUTO', ('FORD-FIESTA', 2)), ('MOTO', ('HONDA-CV01', 2)), ('AUTO', ('FIAT-UNO', 1)), ('AUTO', ('FORD-FOCUS', 1)), ('MOTO', ('HONDA-CV02', 1))]\n"
     ]
    },
    {
     "data": {
      "text/plain": [
       "['MOTO: HONDA CV01', 'AUTO: FORD FIESTA']"
      ]
     },
     "execution_count": 26,
     "metadata": {},
     "output_type": "execute_result"
    }
   ],
   "source": [
    "#(patente, marca, modelo, versión, tipo_vehiculo, provincia, fecha)\n",
    "patentamientos = [\n",
    "    (\"1\",  \"FORD\",   \"FIESTA\", \"BASE\", \"AUTO\", \"CABA\",       \"2017-04-18\"),\n",
    "    (\"2\",  \"FORD\",   \"FOCUS\",  \"BASE\", \"AUTO\", \"CABA\",       \"2017-04-20\"),\n",
    "    (\"3\",  \"FORD\",   \"FIESTA\", \"FULL\", \"AUTO\", \"MISIONES\",   \"2017-04-22\"),\n",
    "    (\"4\",  \"FORD\",   \"FIESTA\", \"BASE\", \"AUTO\", \"CORRIENTES\", \"2017-04-14\"),\n",
    "    (\"5\",  \"FORD\",   \"FIESTA\", \"BASE\", \"AUTO\", \"CABA\",       \"2017-05-27\"),\n",
    "    (\"6\",  \"FORD\",   \"FIESTA\", \"BASE\", \"AUTO\", \"CABA\",       \"2017-04-10\"),\n",
    "    (\"7\",  \"FORD\",   \"FOCUS\",  \"BASE\", \"AUTO\", \"CORDOBA\",    \"2017-04-04\"),\n",
    "    (\"8\",  \"FORD\",   \"FIESTA\", \"FULL\", \"AUTO\", \"MISIONES\",   \"2017-04-16\"),\n",
    "    (\"9\",  \"FORD\",   \"FIESTA\", \"BASE\", \"AUTO\", \"CORDOBA\",    \"2017-04-15\"),\n",
    "    (\"10\", \"FORD\",   \"FOCUS\",  \"BASE\", \"AUTO\", \"CABA\",       \"2017-05-26\"),\n",
    "    (\"11\", \"YAMAHA\", \"XR01\",   \"BASE\", \"MOTO\", \"CABA\",       \"2017-04-18\"),\n",
    "    (\"12\", \"YAMAHA\", \"XR01\",   \"BASE\", \"MOTO\", \"CABA\",       \"2017-04-20\"),\n",
    "    (\"13\", \"YAMAHA\", \"XR01\",   \"FULL\", \"MOTO\", \"MISIONES\",   \"2017-04-22\"),\n",
    "    (\"14\", \"YAMAHA\", \"XR02\",   \"BASE\", \"MOTO\", \"CORRIENTES\", \"2017-04-14\"),\n",
    "    (\"15\", \"YAMAHA\", \"XR02\",   \"BASE\", \"MOTO\", \"CABA\",       \"2017-05-27\"),\n",
    "    (\"16\", \"YAMAHA\", \"XR02\",   \"BASE\", \"MOTO\", \"CABA\",       \"2017-04-10\"),\n",
    "    (\"17\", \"YAMAHA\", \"XR02\",   \"BASE\", \"MOTO\", \"CORDOBA\",    \"2017-04-04\"),\n",
    "    (\"18\", \"YAMAHA\", \"XR02\",   \"FULL\", \"MOTO\", \"MISIONES\",   \"2017-04-16\"),\n",
    "    (\"19\", \"YAMAHA\", \"XR02\",   \"BASE\", \"MOTO\", \"CORDOBA\",    \"2017-04-15\"),\n",
    "    (\"20\", \"YAMAHA\", \"XR01\",   \"BASE\", \"MOTO\", \"CABA\",       \"2017-05-26\"),\n",
    "    (\"21\", \"HONDA\",  \"CV01\",   \"BASE\", \"MOTO\", \"CABA\",       \"2017-04-18\"),\n",
    "    (\"22\", \"HONDA\",  \"CV01\",   \"BASE\", \"MOTO\", \"CABA\",       \"2017-04-02\"),\n",
    "    (\"23\", \"HONDA\",  \"CV01\",   \"FULL\", \"MOTO\", \"MISIONES\",   \"2017-04-25\"),\n",
    "    (\"24\", \"HONDA\",  \"CV02\",   \"BASE\", \"MOTO\", \"FORMOSA\",    \"2017-04-14\"),\n",
    "    (\"25\", \"HONDA\",  \"CV02\",   \"BASE\", \"MOTO\", \"CABA\",       \"2017-05-27\"),\n",
    "    (\"26\", \"HONDA\",  \"CV02\",   \"BASE\", \"MOTO\", \"CABA\",       \"2017-04-12\"),\n",
    "    (\"27\", \"HONDA\",  \"CV02\",   \"BASE\", \"MOTO\", \"CORDOBA\",    \"2017-04-04\"),\n",
    "    (\"28\", \"HONDA\",  \"CV02\",   \"FULL\", \"MOTO\", \"MISIONES\",   \"2017-04-01\"),\n",
    "    (\"29\", \"HONDA\",  \"CV02\",   \"BASE\", \"MOTO\", \"CORDOBA\",    \"2017-04-15\"),\n",
    "    (\"30\", \"HONDA\",  \"CV01\",   \"BASE\", \"MOTO\", \"CABA\",       \"2017-05-07\"),\n",
    "    (\"31\", \"FIAT\",   \"UNO\",    \"BASE\", \"AUTO\", \"CABA\",       \"2017-04-18\"),\n",
    "    (\"32\", \"FIAT\",   \"UNO\",    \"BASE\", \"AUTO\", \"CHUBUT\",     \"2017-04-02\"),\n",
    "    (\"33\", \"FIAT\",   \"DOS\",    \"FULL\", \"AUTO\", \"MISIONES\",   \"2017-04-08\"),\n",
    "    (\"34\", \"FIAT\",   \"UNO\",    \"BASE\", \"AUTO\", \"CORRIENTES\", \"2017-04-14\"),\n",
    "    (\"35\", \"FIAT\",   \"UNO\",    \"FULL\", \"AUTO\", \"CABA\",       \"2017-05-09\"),\n",
    "    (\"36\", \"FIAT\",   \"DOS\",    \"BASE\", \"AUTO\", \"CHUBUT\",     \"2017-04-10\"),\n",
    "    (\"37\", \"FIAT\",   \"UNO\",    \"BASE\", \"AUTO\", \"CORDOBA\",    \"2017-04-04\"),\n",
    "    (\"38\", \"FIAT\",   \"UNO\",    \"FULL\", \"AUTO\", \"FORMOSA\",    \"2017-04-01\"),\n",
    "    (\"39\", \"FIAT\",   \"DOS\",    \"BASE\", \"AUTO\", \"CORDOBA\",    \"2017-04-15\"),\n",
    "]\n",
    "\n",
    "rdd = sc.parallelize(patentamientos)\n",
    "print(\"Cantidad de patentamientos: {}\".format(rdd.count()))\n",
    "rdd1 = rdd.filter(lambda x: (x[6][:7]=='2017-04' and x[5]=='CABA'))\n",
    "print(\"Cantidad de patentamientos durante Abril 2017 en CABA: {}\".format(rdd1.count()))\n",
    "rdd2 = rdd1.map(lambda x: (\"{}-{}-{}\".format(x[4],x[1],x[2]),1)) #(\"TIPO-MARCA-MODELO\",1)\n",
    "print(\"('TIPO-MARCA-MODELO',1):\\n\")\n",
    "print(rdd2.collect())\n",
    "rdd3 = rdd2.reduceByKey(lambda x,y: x+y) #(\"TIPO-MARCA-MODELO\",cantidad)\n",
    "print(\"('TIPO-MARCA-MODELO',cantidad):\\n\")\n",
    "print(rdd3.collect())   \n",
    "def  separar(elemento_rdd3):\n",
    "    tipo, marca, modelo = elemento_rdd3[0].split(\"-\")\n",
    "    return (tipo,(\"{}-{}\".format(marca,modelo),elemento_rdd3[1]))\n",
    "rdd4 = rdd3.map(separar) #(tipo,(marca-modelo,cantidad))\n",
    "print(\"(tipo,(marca-modelo,cantidad)):\\n\")\n",
    "print(rdd4.collect())\n",
    "rdd5 = rdd4.reduceByKey(lambda x,y: x if (x[1] > y[1]) else y) #me quedo con el máximo\n",
    "rdd6 = rdd5.map(lambda x: \"{}: {}\".format(x[0],x[1][0].replace(\"-\",\" \")))\n",
    "rdd6.collect()"
   ]
  },
  {
   "cell_type": "markdown",
   "metadata": {},
   "source": [
    "### Ejercicio 2\n",
    "2) Tenemos un dataframe con la información de distintas playlists\n",
    "armadas por usuarios con el formato (playlist, song_id,\n",
    "description). A su vez, contamos con un dataframe de canciones\n",
    "que contiene (song_id, singer, year, lenght, genres).\n",
    "\n",
    "Se pide generar un programa en Pandas que indique para cada\n",
    "playlist cual es el cantante predominante (con mas canciones\n",
    "incluidas dentro de esa lista). (**) (15 pts)"
   ]
  },
  {
   "cell_type": "code",
   "execution_count": 74,
   "metadata": {},
   "outputs": [
    {
     "data": {
      "text/html": [
       "<div>\n",
       "<style scoped>\n",
       "    .dataframe tbody tr th:only-of-type {\n",
       "        vertical-align: middle;\n",
       "    }\n",
       "\n",
       "    .dataframe tbody tr th {\n",
       "        vertical-align: top;\n",
       "    }\n",
       "\n",
       "    .dataframe thead th {\n",
       "        text-align: right;\n",
       "    }\n",
       "</style>\n",
       "<table border=\"1\" class=\"dataframe\">\n",
       "  <thead>\n",
       "    <tr style=\"text-align: right;\">\n",
       "      <th></th>\n",
       "      <th>Top Artist</th>\n",
       "    </tr>\n",
       "    <tr>\n",
       "      <th>playlist</th>\n",
       "      <th></th>\n",
       "    </tr>\n",
       "  </thead>\n",
       "  <tbody>\n",
       "    <tr>\n",
       "      <th>pop</th>\n",
       "      <td>Marina</td>\n",
       "    </tr>\n",
       "    <tr>\n",
       "      <th>punk</th>\n",
       "      <td>Franco</td>\n",
       "    </tr>\n",
       "    <tr>\n",
       "      <th>tranqui</th>\n",
       "      <td>Axel</td>\n",
       "    </tr>\n",
       "  </tbody>\n",
       "</table>\n",
       "</div>"
      ],
      "text/plain": [
       "         Top Artist\n",
       "playlist           \n",
       "pop          Marina\n",
       "punk         Franco\n",
       "tranqui        Axel"
      ]
     },
     "execution_count": 74,
     "metadata": {},
     "output_type": "execute_result"
    }
   ],
   "source": [
    "columns_playlists = (\"playlist\", \"song_id\")\n",
    "columns_songs = (\"song_id\", \"singer\")\n",
    "playlists = [\n",
    "    (\"tranqui\",\"acuestate\"),\n",
    "    (\"tranqui\",\"relajate\"),\n",
    "    (\"tranqui\",\"duerme mejor\"),\n",
    "    (\"tranqui\",\"bohemia\"),\n",
    "    (\"tranqui\",\"rompan todo\"),\n",
    "    (\"tranqui\",\"todos chorros\"),\n",
    "    (\"punk\",\"rompan todo\"),\n",
    "    (\"punk\",\"todos chorros\"),\n",
    "    (\"punk\",\"movete\"),\n",
    "    (\"punk\",\"activismo\"),\n",
    "    (\"punk\",\"rojo\"),\n",
    "    (\"punk\",\"acuestate\"),\n",
    "    (\"punk\",\"dulce como vos\"),\n",
    "    (\"punk\",\"estrella de mar\"),\n",
    "    (\"pop\",\"bailalo bien\"),\n",
    "    (\"pop\",\"dulce como vos\"),\n",
    "    (\"pop\",\"estrella de mar\"),\n",
    "    (\"pop\",\"duerme mejor\"),\n",
    "]\n",
    "songs = [\n",
    "    (\"acuestate\", \"Franco\"),\n",
    "    (\"relajate\", \"Axel\"),\n",
    "    (\"mejor\", \"Franco\"),\n",
    "    (\"bohemia\", \"Axel\"),\n",
    "    (\"rompan todo\", \"Axel\"),\n",
    "    (\"todos chorros\", \"Laurita\"),\n",
    "    (\"movete\", \"Lucia\"),\n",
    "    (\"activismo\", \"Franco\"),\n",
    "    (\"rojo\", \"Axel\"),\n",
    "    (\"dulce como vos\", \"Laurita\"),\n",
    "    (\"bailalo bien\", \"Marina\"),\n",
    "    (\"estrella de mar\", \"Franco\"),\n",
    "    (\"duerme mejor\", \"Marina\"),\n",
    "]\n",
    "df_songs = pd.DataFrame(data=songs, columns=columns_songs)\n",
    "df_playlists = pd.DataFrame(data=playlists, columns=columns_playlists)\n",
    "\n",
    "df_songs.index = df_songs.song_id\n",
    "df_playlists['singer'] = df_playlists.song_id.map(df_songs.singer)\n",
    "temp = df_playlists.groupby([\"playlist\",\"singer\"]).agg({\"singer\":\"count\"}).unstack(fill_value=0)\n",
    "temp.columns = temp.columns.levels[1]\n",
    "temp = temp.idxmax(axis=1)\n",
    "df = pd.DataFrame(data=t.values,columns=[\"Top Artist\"],index=t.index)\n",
    "df"
   ]
  },
  {
   "cell_type": "markdown",
   "metadata": {},
   "source": [
    "### Ejercicio 3\n",
    "b) Es imposible que un archivo\n",
    "comprimido mediante huffman\n",
    "estático de orden 1 iguale la\n",
    "máxima compresión dada por la\n",
    "entropía del mismo. (***) (10\n",
    "pts)\n",
    "Verdadero. Tiene que guardar una tabla de frecuencias\n",
    "D ) Tenemos 2 archivos, uno con\n",
    "longitud pequeña y el otro muy\n",
    "grande que se comprimen\n",
    "utilizando huffman estático de\n",
    "orden 5. Si observamos que\n",
    "tienen la mismas tablas de\n",
    "frecuencias podemos afirmar que\n",
    "el cociente entre el tamaño del\n",
    "archivo sin comprimir y el\n",
    "tamaño del archivo comprimido\n",
    "será similar. (***) (10 pts)\n",
    "\n",
    "Falso. Si tienen la misma tabla de frecuencias, el archivo más grande se comprimió mejor"
   ]
  },
  {
   "cell_type": "code",
   "execution_count": null,
   "metadata": {},
   "outputs": [],
   "source": []
  },
  {
   "cell_type": "markdown",
   "metadata": {},
   "source": [
    "### Ejercicio 5\n",
    "5) Descomprimir el siguiente archivo comprimido con LZ78/LZW:\n",
    "B C 256 258 B A 260 262 260\n",
    "\n",
    "Indicar cuanto se logro comprimir el archivo en este caso.\n",
    "(***) (15 pts)"
   ]
  },
  {
   "cell_type": "code",
   "execution_count": null,
   "metadata": {},
   "outputs": [],
   "source": [
    "#B C 256 258 B A 260 262 260 -> 9*9= 81 bytes (88 porque tengo que poner 7 de relleno -> compresión = 31.25% )\n",
    "1)B-256:BC\n",
    "2)C-257:CB\n",
    "3)BC(256)-258:BCB\n",
    "4)BCB(258)-259:BCBB\n",
    "5)B-260:BA\n",
    "6)A-261:AB\n",
    "7)BA(260)-262:BAB\n",
    "8)BAB(262)-263:BABB\n",
    "9)BA\n",
    "-> B C B C B C B B A B A B A B B A -> 8*16=128 bytes\n",
    "Verifico:\n",
    "1)B-256:BC\n",
    "2)C-257:CB\n",
    "3)BC(256)-258:BCB\n",
    "4)BCB(258)-259:BCBB     \n",
    "5)B-260:BA\n",
    "6)A-261:AB\n",
    "7)BA(260)-262:BAB\n",
    "8)BAB(262)-263:BABB\n",
    "9)A(260)\n",
    "#B C 256 258 B A 260 262 260"
   ]
  },
  {
   "cell_type": "markdown",
   "metadata": {},
   "source": [
    "### Ejercicio 7\n",
    "7) Tenemos un total de 10.000 claves de 32 bytes c/u. Si usamos el\n",
    "esquema FKS y la primer tabla tiene 1000 posiciones. ¿Cuánto\n",
    "espacio necesitamos en total para almacenar las 10.000 claves?\n",
    "(10 pts *)"
   ]
  },
  {
   "cell_type": "code",
   "execution_count": null,
   "metadata": {},
   "outputs": [],
   "source": [
    "2 x m = 2 x 10.0000 = 20.000\n",
    "20.000 x 32 = 640.000 bytes"
   ]
  }
 ],
 "metadata": {
  "kernelspec": {
   "display_name": "Python 3",
   "language": "python",
   "name": "python3"
  },
  "language_info": {
   "codemirror_mode": {
    "name": "ipython",
    "version": 3
   },
   "file_extension": ".py",
   "mimetype": "text/x-python",
   "name": "python",
   "nbconvert_exporter": "python",
   "pygments_lexer": "ipython3",
   "version": "3.6.5"
  }
 },
 "nbformat": 4,
 "nbformat_minor": 2
}
